{
 "cells": [
  {
   "cell_type": "code",
   "execution_count": 2,
   "metadata": {},
   "outputs": [],
   "source": [
    "import numpy as np\n",
    "import random\n",
    "# from neural import *\n",
    "import matplotlib.pyplot as plt"
   ]
  },
  {
   "cell_type": "code",
   "execution_count": 3,
   "metadata": {},
   "outputs": [],
   "source": [
    "class NN:\n",
    "    def __init__(self, shape, dna=None):\n",
    "        self.shape = shape\n",
    "        self.w = []\n",
    "        if dna is None:\n",
    "            self.gen_weights()\n",
    "        else:\n",
    "            self.dna(dna)\n",
    "\n",
    "    def gen_weights(self, random=True):\n",
    "        self.w = []\n",
    "        for i in range(len(self.shape) -1):\n",
    "            w = np.zeros((self.shape[i+1] + 1, self.shape[i] + 1))\n",
    "            if random:\n",
    "                w[:-1] = np.random.random((self.shape[i+1], self.shape[i]+1)) * 2 -1\n",
    "            w[-1, -1] = 1\n",
    "            \n",
    "            self.w.append(w)\n",
    "\n",
    "    def process(self, data):\n",
    "        try:\n",
    "            l = len(data)\n",
    "        except TypeError:\n",
    "            # dado nao eh uma lista\n",
    "            l = 1\n",
    "            data = [data]\n",
    "        finally:\n",
    "            if l != self.shape[0]:\n",
    "                raise TypeError('entrada com tamanho diferente to esperado')\n",
    "\n",
    "        z = np.concatenate((data, [np.ones_like(data[0])]))\n",
    "#         z = np.zeros(self.shape[0] + 1)\n",
    "#         z[:self.shape[0]] = data\n",
    "#         z[-1] = 1\n",
    "        print(z)\n",
    "        for w in self.w[:-1]:\n",
    "            z = self.foward(w, z, func=self.relu)\n",
    "            print(z)\n",
    "        z = self.foward(self.w[-1], z, func=None)\n",
    "        \n",
    "        return z[:-1]\n",
    "                                 \n",
    "    def foward(self, w, z, func=None):\n",
    "        z = np.dot(w, z)\n",
    "        if func is not None:\n",
    "            z[:-1] = func(z[:-1])\n",
    "        return z\n",
    "    \n",
    "    def sigmoid(self, z):\n",
    "        return 1/(1+np.exp(-z))\n",
    "    \n",
    "    def relu(self, z):\n",
    "        z[z<0] = 0\n",
    "        return z\n",
    "    \n",
    "    def softplus(self, z):\n",
    "        return np.log(1 + np.exp(z))\n",
    "    \n",
    "    def softmax(self, z):\n",
    "        return z/self.sum(z)\n",
    "    \n",
    "    def sum(self, z):\n",
    "        return np.sum(z, axis=0)\n",
    "    \n",
    "    def dna(self, dna=None):\n",
    "        if dna is None:\n",
    "            # retorna os parametros como uma lista\n",
    "            return np.concatenate([w[:-1].reshape(-1) for w in self.w])\n",
    "        else:\n",
    "            # atribui os parametros a partir de um lista\n",
    "            dna = np.array(dna)\n",
    "            self.gen_weights(random=False)\n",
    "            i = 0\n",
    "            for j in range(len(self.shape) -1):\n",
    "                new_i = i + (self.shape[j]+1)*self.shape[j+1]\n",
    "                self.w[j][:-1] = dna[i:new_i].reshape(self.shape[j+1], -1)\n",
    "                i = new_i\n"
   ]
  },
  {
   "cell_type": "code",
   "execution_count": 20,
   "metadata": {},
   "outputs": [
    {
     "name": "stdout",
     "output_type": "stream",
     "text": [
      "[1 1 1]\n"
     ]
    },
    {
     "data": {
      "text/plain": [
       "array([[1, 2, 3],\n",
       "       [1, 2, 3],\n",
       "       [1, 1, 1]])"
      ]
     },
     "execution_count": 20,
     "metadata": {},
     "output_type": "execute_result"
    }
   ],
   "source": [
    "data = [[1,2,3], [1,2,3]]\n",
    "print(np.ones_like(data[0]))\n",
    "# np.append(data, np.ones_like(data[0]), axis=1)\n",
    "np.concatenate((data, [np.ones_like(data[0])]))"
   ]
  },
  {
   "cell_type": "code",
   "execution_count": 69,
   "metadata": {},
   "outputs": [],
   "source": []
  },
  {
   "cell_type": "code",
   "execution_count": 121,
   "metadata": {},
   "outputs": [
    {
     "name": "stdout",
     "output_type": "stream",
     "text": [
      "[[1 2]\n",
      " [1 1]]\n",
      "[[0.2044299  0.        ]\n",
      " [1.35810819 1.99122851]\n",
      " [1.         1.        ]]\n"
     ]
    },
    {
     "data": {
      "text/plain": [
       "array([[1.18384665, 1.88004086]])"
      ]
     },
     "execution_count": 121,
     "metadata": {},
     "output_type": "execute_result"
    }
   ],
   "source": [
    "nn = NN((1, 2, 1))\n",
    "x = np.array([[1,2]])\n",
    "z = np.concatenate((x, [np.ones_like(x[0])]))\n",
    "nn.process(x)"
   ]
  },
  {
   "cell_type": "code",
   "execution_count": 123,
   "metadata": {},
   "outputs": [
    {
     "name": "stdout",
     "output_type": "stream",
     "text": [
      "[2 1]\n",
      "[0.         1.99122851 1.        ]\n"
     ]
    },
    {
     "data": {
      "text/plain": [
       "array([1.88004086])"
      ]
     },
     "execution_count": 123,
     "metadata": {},
     "output_type": "execute_result"
    }
   ],
   "source": [
    "nn.process(2)"
   ]
  },
  {
   "cell_type": "code",
   "execution_count": 4,
   "metadata": {},
   "outputs": [
    {
     "ename": "NameError",
     "evalue": "name 'chi2' is not defined",
     "output_type": "error",
     "traceback": [
      "\u001b[0;31m---------------------------------------------------------------------------\u001b[0m",
      "\u001b[0;31mNameError\u001b[0m                                 Traceback (most recent call last)",
      "\u001b[0;32m<ipython-input-4-2ab507944244>\u001b[0m in \u001b[0;36m<module>\u001b[0;34m\u001b[0m\n\u001b[1;32m      1\u001b[0m \u001b[0;31m# treinamento regressao 2d\u001b[0m\u001b[0;34m\u001b[0m\u001b[0;34m\u001b[0m\u001b[0;34m\u001b[0m\u001b[0m\n\u001b[0;32m----> 2\u001b[0;31m \u001b[0mcalc_fitness\u001b[0m \u001b[0;34m=\u001b[0m \u001b[0mchi2\u001b[0m\u001b[0;34m\u001b[0m\u001b[0;34m\u001b[0m\u001b[0m\n\u001b[0m\u001b[1;32m      3\u001b[0m \u001b[0;34m\u001b[0m\u001b[0m\n\u001b[1;32m      4\u001b[0m \u001b[0mx\u001b[0m \u001b[0;34m=\u001b[0m \u001b[0mnp\u001b[0m\u001b[0;34m.\u001b[0m\u001b[0mlinspace\u001b[0m\u001b[0;34m(\u001b[0m\u001b[0;34m-\u001b[0m\u001b[0;36m2\u001b[0m\u001b[0;34m,\u001b[0m \u001b[0;36m2\u001b[0m\u001b[0;34m,\u001b[0m \u001b[0;36m15\u001b[0m\u001b[0;34m)\u001b[0m \u001b[0;34m+\u001b[0m \u001b[0mnp\u001b[0m\u001b[0;34m.\u001b[0m\u001b[0mrandom\u001b[0m\u001b[0;34m.\u001b[0m\u001b[0mrandn\u001b[0m\u001b[0;34m(\u001b[0m\u001b[0;36m15\u001b[0m\u001b[0;34m)\u001b[0m \u001b[0;34m*\u001b[0m \u001b[0;36m0.05\u001b[0m\u001b[0;34m\u001b[0m\u001b[0;34m\u001b[0m\u001b[0m\n\u001b[1;32m      5\u001b[0m \u001b[0my\u001b[0m \u001b[0;34m=\u001b[0m \u001b[0mnp\u001b[0m\u001b[0;34m.\u001b[0m\u001b[0mexp\u001b[0m\u001b[0;34m(\u001b[0m\u001b[0;34m-\u001b[0m\u001b[0mx\u001b[0m\u001b[0;34m**\u001b[0m\u001b[0;36m2\u001b[0m\u001b[0;34m)\u001b[0m \u001b[0;34m+\u001b[0m \u001b[0mnp\u001b[0m\u001b[0;34m.\u001b[0m\u001b[0mrandom\u001b[0m\u001b[0;34m.\u001b[0m\u001b[0mrandn\u001b[0m\u001b[0;34m(\u001b[0m\u001b[0;36m15\u001b[0m\u001b[0;34m)\u001b[0m \u001b[0;34m*\u001b[0m \u001b[0;36m0.05\u001b[0m\u001b[0;34m\u001b[0m\u001b[0;34m\u001b[0m\u001b[0m\n",
      "\u001b[0;31mNameError\u001b[0m: name 'chi2' is not defined"
     ]
    }
   ],
   "source": [
    "# treinamento regressao 2d\n",
    "calc_fitness = chi2\n",
    "\n",
    "x = np.linspace(-2, 2, 15) + np.random.randn(15) * 0.05\n",
    "y = np.exp(-x**2) + np.random.randn(15) * 0.05\n",
    "xx = np.linspace(-2, 2, 100)\n",
    "\n",
    "populacao = 300\n",
    "\n",
    "pop = Pop(NN, populacao, shape=(1, 3, 1))\n",
    "calc_fitness(x, y, pop)\n",
    "fitness = max(pop.fitness)\n",
    "\n",
    "print(\"populacao:\", populacao)\n",
    "print('gen\\tmelhor fitness')\n",
    "print(\"{}\\t{}\".format(pop.gen, round(fitness, 2)))\n",
    "\n",
    "while pop.gen < 40:\n",
    "    pop.next_gen()\n",
    "    calc_fitness(x, y, pop)\n",
    "    fitness = max(pop.fitness)\n",
    "    if pop.gen % 2 == 0:\n",
    "        print(\"{}\\t{}\".format(pop.gen, round(fitness, 2)))\n",
    "        \n",
    "# mostra resultado\n",
    "x = np.linspace(-2, 2, 15) + np.random.randn(15) * 0.05\n",
    "y = np.exp(-x**2) + np.random.randn(15) * 0.05\n",
    "\n",
    "# nn = NN((1, 4, 4, 1))\n",
    "i = np.argmax(pop.fitness)\n",
    "# i = np.random.randint(0, len(pop.pop))\n",
    "nn = pop.pop[i]\n",
    "\n",
    "xx = np.linspace(-2, 2, 100)\n",
    "plt.scatter(x, y)\n",
    "yy = [nn.process([x])[0] for x in xx]\n",
    "plt.plot(xx, yy)\n",
    "plt.show()"
   ]
  },
  {
   "cell_type": "code",
   "execution_count": 251,
   "metadata": {},
   "outputs": [
    {
     "name": "stdout",
     "output_type": "stream",
     "text": [
      "6.0\n"
     ]
    },
    {
     "data": {
      "image/png": "[encoded data removed]",
      "text/plain": [
       "<Figure size 432x288 with 1 Axes>"
      ]
     },
     "metadata": {
      "needs_background": "light"
     },
     "output_type": "display_data"
    }
   ],
   "source": [
    "# treinamento classificacao\n",
    "\n",
    "p = np.random.random((3, 30))\n",
    "p[2] = (p[0]**2 + p[1]**2) > 1\n",
    "\n",
    "\n",
    "print(np.sum(p[2]))\n",
    "\n",
    "plt.scatter(p[0, p[2]==0], p[1, p[2]==0])\n",
    "plt.scatter(p[0, p[2]==1], p[1, p[2]==1])\n",
    "plt.show()"
   ]
  },
  {
   "cell_type": "code",
   "execution_count": 242,
   "metadata": {},
   "outputs": [
    {
     "name": "stdout",
     "output_type": "stream",
     "text": [
      "6.0\n"
     ]
    },
    {
     "data": {
      "text/plain": [
       "<matplotlib.collections.PathCollection at 0x7f90bcc46198>"
      ]
     },
     "execution_count": 242,
     "metadata": {},
     "output_type": "execute_result"
    },
    {
     "data": {
      "image/png": "[encoded data removed]",
      "text/plain": [
       "<Figure size 432x288 with 1 Axes>"
      ]
     },
     "metadata": {
      "needs_background": "light"
     },
     "output_type": "display_data"
    }
   ],
   "source": []
  },
  {
   "cell_type": "code",
   "execution_count": 237,
   "metadata": {},
   "outputs": [
    {
     "data": {
      "text/plain": [
       "array([ True, False,  True,  True,  True,  True,  True,  True,  True,\n",
       "        True,  True,  True, False, False,  True,  True, False,  True,\n",
       "        True,  True,  True,  True,  True,  True, False, False,  True,\n",
       "        True, False, False])"
      ]
     },
     "execution_count": 237,
     "metadata": {},
     "output_type": "execute_result"
    }
   ],
   "source": [
    "p[2] == 0"
   ]
  },
  {
   "cell_type": "code",
   "execution_count": 150,
   "metadata": {},
   "outputs": [
    {
     "name": "stdout",
     "output_type": "stream",
     "text": [
      "10.23055957218326 2.261769292999135\n",
      "10.333193511719383 2.191641468964742\n",
      "3.739720728735781 0.8166517983192214\n",
      "10.7304511900466 0.8758043394931778\n",
      "47.61757705229601 1.1888659603885112\n"
     ]
    }
   ],
   "source": [
    "pop = Pop(NN, 5, shape=(1,2,1))\n",
    "def chimean(x, y, pop):\n",
    "    fit = []\n",
    "    for c in pop.pop:\n",
    "        yy = yy = [c.process([i])[0] for i in x]\n",
    "        s = np.sum((yy - y)**2)\n",
    "        ym = np.mean(yy)\n",
    "        sm = np.sum((yy - ym)**2)\n",
    "        print(s, sm)\n",
    "        fit.append(1 - s/sm)\n",
    "    pop.fitness = fit\n",
    "chimean(x, y, pop)"
   ]
  }
 ],
 "metadata": {
  "kernelspec": {
   "display_name": "Python 3",
   "language": "python",
   "name": "python3"
  },
  "language_info": {
   "codemirror_mode": {
    "name": "ipython",
    "version": 3
   },
   "file_extension": ".py",
   "mimetype": "text/x-python",
   "name": "python",
   "nbconvert_exporter": "python",
   "pygments_lexer": "ipython3",
   "version": "3.7.3"
  }
 },
 "nbformat": 4,
 "nbformat_minor": 2
}
