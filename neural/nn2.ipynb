{
 "cells": [
  {
   "cell_type": "code",
   "execution_count": 331,
   "metadata": {},
   "outputs": [],
   "source": [
    "import numpy as np\n",
    "import random\n",
    "import matplotlib.pyplot as plt"
   ]
  },
  {
   "cell_type": "code",
   "execution_count": 342,
   "metadata": {},
   "outputs": [],
   "source": [
    "class NN:\n",
    "    def __init__(self, shape, dna=None):\n",
    "        self.shape = shape\n",
    "        self.w = []\n",
    "        if dna is None:\n",
    "            self.gen_weights()\n",
    "        else:\n",
    "            self.dna(dna)\n",
    "\n",
    "    def gen_weights(self, random=True):\n",
    "        self.w = []\n",
    "        for i in range(len(self.shape) -1):\n",
    "            w = np.zeros((self.shape[i+1] + 1, self.shape[i] + 1))\n",
    "            if random:\n",
    "                w[:-1] = np.random.random((self.shape[i+1], self.shape[i]+1)) * 2 -1\n",
    "            w[-1, -1] = 1\n",
    "            \n",
    "            self.w.append(w)\n",
    "\n",
    "    def process(self, data):\n",
    "        if len(data) != self.shape[0]:\n",
    "            raise Exception('entrada com tamanho diferente to esperado')\n",
    "        z = np.zeros(self.shape[0] + 1)\n",
    "        z[:self.shape[0]] = data\n",
    "        z[-1] = 1\n",
    "        \n",
    "        for w in self.w[:-1]:\n",
    "            z = self.foward(w, z, func=self.relu)\n",
    "        z = self.foward(self.w[-1], z, func=np.sum)\n",
    "        \n",
    "        return z[:-1]\n",
    "                                 \n",
    "    def foward(self, w, z, func=None):\n",
    "        z = np.dot(w, z)\n",
    "        if func is None:\n",
    "            z[:-1] = self.relu(z[:-1])\n",
    "        else:\n",
    "            z[:-1] = func(z[:-1])\n",
    "        return z\n",
    "    \n",
    "    def sigmoid(self, z):\n",
    "        return 1/(1+np.exp(-z))\n",
    "    \n",
    "    def relu(self, z):\n",
    "        z[z<0] = 0\n",
    "        return z\n",
    "    \n",
    "    def softplus(self, z):\n",
    "        return np.log(1 + np.exp(z))\n",
    "    \n",
    "    def softmax(self, z):\n",
    "        return z/z.sum()\n",
    "    \n",
    "    def dna(self, dna=None):\n",
    "        if dna is None:\n",
    "            # retorna os parametros como uma lista\n",
    "            return np.concatenate([w[:-1].reshape(-1) for w in nn.w])\n",
    "        else:\n",
    "            # atribui os parametros a partir de um lista\n",
    "            dna = np.array(dna)\n",
    "            self.gen_weights(random=False)\n",
    "            i = 0\n",
    "            for j in range(len(self.shape) -1):\n",
    "                new_i = i + (self.shape[j]+1)*self.shape[j+1]\n",
    "                self.w[j][:-1] = dna[i:new_i].reshape(self.shape[j+1], -1)\n",
    "                i = new_i\n",
    "            \n",
    "        "
   ]
  },
  {
   "cell_type": "code",
   "execution_count": 347,
   "metadata": {},
   "outputs": [],
   "source": [
    "class Pop():\n",
    "    def __init__(self, species, size, **kwargs):\n",
    "        self.species = species\n",
    "        self.size = size\n",
    "        self.pop = [species(**kwargs) for _ in range(size)]\n",
    "        self.fitness = []\n",
    "        self.gen = 0\n",
    "\n",
    "    def next_gen(self):\n",
    "        self.gen += 1\n",
    "        total_fit = sum(self.fitness)\n",
    "        prob = [fit/total_fit for fit in self.fitness]\n",
    "        \n",
    "        self.pop = [self.species(self.pop[0].shape, self.sex(prob)) for _ in range(self.size)]\n",
    "\n",
    "    def sex(self, weights):\n",
    "        parents = random.choices(self.pop, weights=weights, k=2)\n",
    "        parents = [p.dna() for p in parents]\n",
    "        select = np.random.randint(0,2, len(parents[0]))\n",
    "        dna = [parents[select[i]][i] for i in range(len(parents[0]))]\n",
    "        # mutacao\n",
    "        if random.random() < 0.02:\n",
    "            i = random.randint(0, len(dna))\n",
    "            dna[i] = np.random.randn()\n",
    "        return dna\n",
    "    \n",
    "#     def sex2(self, weights):\n",
    "#         parents = random.choices(pop.pop, weights=weights, k=2)\n",
    "#         cut = random.randint(0, self.size-1)\n",
    "#         child = parents[0].dna[:cut] + parents[1].dna[cut:]\n",
    "#         # mutacao\n",
    "#         if random.random() < 0.01:\n",
    "#             i = random.randint(0,self.cell_size-1)\n",
    "#             child = child[:i] + random.choice(self.pool) + child[i+1:]\n",
    "#         return child\n",
    "            \n",
    "\n",
    "            "
   ]
  },
  {
   "cell_type": "code",
   "execution_count": 361,
   "metadata": {},
   "outputs": [
    {
     "ename": "IndexError",
     "evalue": "list assignment index out of range",
     "output_type": "error",
     "traceback": [
      "\u001b[0;31m---------------------------------------------------------------------------\u001b[0m",
      "\u001b[0;31mIndexError\u001b[0m                                Traceback (most recent call last)",
      "\u001b[0;32m<ipython-input-361-55b2c1c74c46>\u001b[0m in \u001b[0;36m<module>\u001b[0;34m\u001b[0m\n\u001b[1;32m     15\u001b[0m \u001b[0;31m# print(pop.fitness)\u001b[0m\u001b[0;34m\u001b[0m\u001b[0;34m\u001b[0m\u001b[0;34m\u001b[0m\u001b[0m\n\u001b[1;32m     16\u001b[0m \u001b[0;32mwhile\u001b[0m \u001b[0mpop\u001b[0m\u001b[0;34m.\u001b[0m\u001b[0mgen\u001b[0m \u001b[0;34m<\u001b[0m \u001b[0;36m100\u001b[0m\u001b[0;34m:\u001b[0m\u001b[0;34m\u001b[0m\u001b[0;34m\u001b[0m\u001b[0m\n\u001b[0;32m---> 17\u001b[0;31m     \u001b[0mpop\u001b[0m\u001b[0;34m.\u001b[0m\u001b[0mnext_gen\u001b[0m\u001b[0;34m(\u001b[0m\u001b[0;34m)\u001b[0m\u001b[0;34m\u001b[0m\u001b[0;34m\u001b[0m\u001b[0m\n\u001b[0m\u001b[1;32m     18\u001b[0m     \u001b[0mcalc_fitness\u001b[0m\u001b[0;34m(\u001b[0m\u001b[0mx\u001b[0m\u001b[0;34m,\u001b[0m \u001b[0my\u001b[0m\u001b[0;34m,\u001b[0m \u001b[0mpop\u001b[0m\u001b[0;34m)\u001b[0m\u001b[0;34m\u001b[0m\u001b[0;34m\u001b[0m\u001b[0m\n\u001b[1;32m     19\u001b[0m     \u001b[0mfitness\u001b[0m \u001b[0;34m=\u001b[0m \u001b[0mmax\u001b[0m\u001b[0;34m(\u001b[0m\u001b[0mpop\u001b[0m\u001b[0;34m.\u001b[0m\u001b[0mfitness\u001b[0m\u001b[0;34m)\u001b[0m\u001b[0;34m\u001b[0m\u001b[0;34m\u001b[0m\u001b[0m\n",
      "\u001b[0;32m<ipython-input-347-cd1552d52d74>\u001b[0m in \u001b[0;36mnext_gen\u001b[0;34m(self)\u001b[0m\n\u001b[1;32m     12\u001b[0m         \u001b[0mprob\u001b[0m \u001b[0;34m=\u001b[0m \u001b[0;34m[\u001b[0m\u001b[0mfit\u001b[0m\u001b[0;34m/\u001b[0m\u001b[0mtotal_fit\u001b[0m \u001b[0;32mfor\u001b[0m \u001b[0mfit\u001b[0m \u001b[0;32min\u001b[0m \u001b[0mself\u001b[0m\u001b[0;34m.\u001b[0m\u001b[0mfitness\u001b[0m\u001b[0;34m]\u001b[0m\u001b[0;34m\u001b[0m\u001b[0;34m\u001b[0m\u001b[0m\n\u001b[1;32m     13\u001b[0m \u001b[0;34m\u001b[0m\u001b[0m\n\u001b[0;32m---> 14\u001b[0;31m         \u001b[0mself\u001b[0m\u001b[0;34m.\u001b[0m\u001b[0mpop\u001b[0m \u001b[0;34m=\u001b[0m \u001b[0;34m[\u001b[0m\u001b[0mself\u001b[0m\u001b[0;34m.\u001b[0m\u001b[0mspecies\u001b[0m\u001b[0;34m(\u001b[0m\u001b[0mself\u001b[0m\u001b[0;34m.\u001b[0m\u001b[0mpop\u001b[0m\u001b[0;34m[\u001b[0m\u001b[0;36m0\u001b[0m\u001b[0;34m]\u001b[0m\u001b[0;34m.\u001b[0m\u001b[0mshape\u001b[0m\u001b[0;34m,\u001b[0m \u001b[0mself\u001b[0m\u001b[0;34m.\u001b[0m\u001b[0msex\u001b[0m\u001b[0;34m(\u001b[0m\u001b[0mprob\u001b[0m\u001b[0;34m)\u001b[0m\u001b[0;34m)\u001b[0m \u001b[0;32mfor\u001b[0m \u001b[0m_\u001b[0m \u001b[0;32min\u001b[0m \u001b[0mrange\u001b[0m\u001b[0;34m(\u001b[0m\u001b[0mself\u001b[0m\u001b[0;34m.\u001b[0m\u001b[0msize\u001b[0m\u001b[0;34m)\u001b[0m\u001b[0;34m]\u001b[0m\u001b[0;34m\u001b[0m\u001b[0;34m\u001b[0m\u001b[0m\n\u001b[0m\u001b[1;32m     15\u001b[0m \u001b[0;34m\u001b[0m\u001b[0m\n\u001b[1;32m     16\u001b[0m     \u001b[0;32mdef\u001b[0m \u001b[0msex\u001b[0m\u001b[0;34m(\u001b[0m\u001b[0mself\u001b[0m\u001b[0;34m,\u001b[0m \u001b[0mweights\u001b[0m\u001b[0;34m)\u001b[0m\u001b[0;34m:\u001b[0m\u001b[0;34m\u001b[0m\u001b[0;34m\u001b[0m\u001b[0m\n",
      "\u001b[0;32m<ipython-input-347-cd1552d52d74>\u001b[0m in \u001b[0;36m<listcomp>\u001b[0;34m(.0)\u001b[0m\n\u001b[1;32m     12\u001b[0m         \u001b[0mprob\u001b[0m \u001b[0;34m=\u001b[0m \u001b[0;34m[\u001b[0m\u001b[0mfit\u001b[0m\u001b[0;34m/\u001b[0m\u001b[0mtotal_fit\u001b[0m \u001b[0;32mfor\u001b[0m \u001b[0mfit\u001b[0m \u001b[0;32min\u001b[0m \u001b[0mself\u001b[0m\u001b[0;34m.\u001b[0m\u001b[0mfitness\u001b[0m\u001b[0;34m]\u001b[0m\u001b[0;34m\u001b[0m\u001b[0;34m\u001b[0m\u001b[0m\n\u001b[1;32m     13\u001b[0m \u001b[0;34m\u001b[0m\u001b[0m\n\u001b[0;32m---> 14\u001b[0;31m         \u001b[0mself\u001b[0m\u001b[0;34m.\u001b[0m\u001b[0mpop\u001b[0m \u001b[0;34m=\u001b[0m \u001b[0;34m[\u001b[0m\u001b[0mself\u001b[0m\u001b[0;34m.\u001b[0m\u001b[0mspecies\u001b[0m\u001b[0;34m(\u001b[0m\u001b[0mself\u001b[0m\u001b[0;34m.\u001b[0m\u001b[0mpop\u001b[0m\u001b[0;34m[\u001b[0m\u001b[0;36m0\u001b[0m\u001b[0;34m]\u001b[0m\u001b[0;34m.\u001b[0m\u001b[0mshape\u001b[0m\u001b[0;34m,\u001b[0m \u001b[0mself\u001b[0m\u001b[0;34m.\u001b[0m\u001b[0msex\u001b[0m\u001b[0;34m(\u001b[0m\u001b[0mprob\u001b[0m\u001b[0;34m)\u001b[0m\u001b[0;34m)\u001b[0m \u001b[0;32mfor\u001b[0m \u001b[0m_\u001b[0m \u001b[0;32min\u001b[0m \u001b[0mrange\u001b[0m\u001b[0;34m(\u001b[0m\u001b[0mself\u001b[0m\u001b[0;34m.\u001b[0m\u001b[0msize\u001b[0m\u001b[0;34m)\u001b[0m\u001b[0;34m]\u001b[0m\u001b[0;34m\u001b[0m\u001b[0;34m\u001b[0m\u001b[0m\n\u001b[0m\u001b[1;32m     15\u001b[0m \u001b[0;34m\u001b[0m\u001b[0m\n\u001b[1;32m     16\u001b[0m     \u001b[0;32mdef\u001b[0m \u001b[0msex\u001b[0m\u001b[0;34m(\u001b[0m\u001b[0mself\u001b[0m\u001b[0;34m,\u001b[0m \u001b[0mweights\u001b[0m\u001b[0;34m)\u001b[0m\u001b[0;34m:\u001b[0m\u001b[0;34m\u001b[0m\u001b[0;34m\u001b[0m\u001b[0m\n",
      "\u001b[0;32m<ipython-input-347-cd1552d52d74>\u001b[0m in \u001b[0;36msex\u001b[0;34m(self, weights)\u001b[0m\n\u001b[1;32m     22\u001b[0m         \u001b[0;32mif\u001b[0m \u001b[0mrandom\u001b[0m\u001b[0;34m.\u001b[0m\u001b[0mrandom\u001b[0m\u001b[0;34m(\u001b[0m\u001b[0;34m)\u001b[0m \u001b[0;34m<\u001b[0m \u001b[0;36m0.02\u001b[0m\u001b[0;34m:\u001b[0m\u001b[0;34m\u001b[0m\u001b[0;34m\u001b[0m\u001b[0m\n\u001b[1;32m     23\u001b[0m             \u001b[0mi\u001b[0m \u001b[0;34m=\u001b[0m \u001b[0mrandom\u001b[0m\u001b[0;34m.\u001b[0m\u001b[0mrandint\u001b[0m\u001b[0;34m(\u001b[0m\u001b[0;36m0\u001b[0m\u001b[0;34m,\u001b[0m \u001b[0mlen\u001b[0m\u001b[0;34m(\u001b[0m\u001b[0mdna\u001b[0m\u001b[0;34m)\u001b[0m\u001b[0;34m)\u001b[0m\u001b[0;34m\u001b[0m\u001b[0;34m\u001b[0m\u001b[0m\n\u001b[0;32m---> 24\u001b[0;31m             \u001b[0mdna\u001b[0m\u001b[0;34m[\u001b[0m\u001b[0mi\u001b[0m\u001b[0;34m]\u001b[0m \u001b[0;34m=\u001b[0m \u001b[0mnp\u001b[0m\u001b[0;34m.\u001b[0m\u001b[0mrandom\u001b[0m\u001b[0;34m.\u001b[0m\u001b[0mrandn\u001b[0m\u001b[0;34m(\u001b[0m\u001b[0;34m)\u001b[0m\u001b[0;34m\u001b[0m\u001b[0;34m\u001b[0m\u001b[0m\n\u001b[0m\u001b[1;32m     25\u001b[0m         \u001b[0;32mreturn\u001b[0m \u001b[0mdna\u001b[0m\u001b[0;34m\u001b[0m\u001b[0;34m\u001b[0m\u001b[0m\n\u001b[1;32m     26\u001b[0m \u001b[0;34m\u001b[0m\u001b[0m\n",
      "\u001b[0;31mIndexError\u001b[0m: list assignment index out of range"
     ]
    }
   ],
   "source": [
    "def calc_fitness(x, y, pop):\n",
    "    fit  = []\n",
    "    for c in pop.pop:\n",
    "        yy = [c.process([i])[0] for i in x]\n",
    "        fit.append(np.sum((yy-y)**2))\n",
    "    pop.fitness = fit\n",
    "\n",
    "x = np.linspace(-2, 2, 15) + np.random.randn(15) * 0.05\n",
    "y = np.exp(-x**2) + np.random.randn(15) * 0.05\n",
    "xx = np.linspace(-2, 2, 100)\n",
    "\n",
    "pop = Pop(NN, 100, shape=(1, 4, 4, 1))\n",
    "calc_fitness(x, y, pop)\n",
    "fitness = max(pop.fitness)\n",
    "# print(pop.fitness)\n",
    "while pop.gen < 100:\n",
    "    pop.next_gen()\n",
    "    calc_fitness(x, y, pop)\n",
    "    fitness = max(pop.fitness)\n",
    "    if pop.gen % 10 == 0:\n",
    "        print(pop.gen, fitness)\n"
   ]
  },
  {
   "cell_type": "code",
   "execution_count": 358,
   "metadata": {},
   "outputs": [
    {
     "data": {
      "text/plain": [
       "[<matplotlib.lines.Line2D at 0x7f9046f6a0f0>]"
      ]
     },
     "execution_count": 358,
     "metadata": {},
     "output_type": "execute_result"
    },
    {
     "data": {
      "image/png": "[encoded data removed]",
      "text/plain": [
       "<Figure size 432x288 with 1 Axes>"
      ]
     },
     "metadata": {
      "needs_background": "light"
     },
     "output_type": "display_data"
    }
   ],
   "source": [
    "x = np.linspace(-2, 2, 15) + np.random.randn(15) * 0.05\n",
    "y = np.exp(-x**2) + np.random.randn(15) * 0.05\n",
    "\n",
    "# nn = NN((1, 4, 4, 1))\n",
    "nn = pop.pop[3]\n",
    "xx = np.linspace(-2, 2, 100)\n",
    "plt.scatter(x, y)\n",
    "yy = [nn.process([x])[0] for x in xx]\n",
    "plt.plot(xx, yy)"
   ]
  },
  {
   "cell_type": "code",
   "execution_count": 359,
   "metadata": {},
   "outputs": [
    {
     "data": {
      "text/plain": [
       "[3.485612656018638,\n",
       " 3.485612656018638,\n",
       " 3.485612656018638,\n",
       " 3.485612656018638,\n",
       " 3.485612656018638]"
      ]
     },
     "execution_count": 359,
     "metadata": {},
     "output_type": "execute_result"
    }
   ],
   "source": [
    "pop.fitness"
   ]
  }
 ],
 "metadata": {
  "kernelspec": {
   "display_name": "Python 3",
   "language": "python",
   "name": "python3"
  },
  "language_info": {
   "codemirror_mode": {
    "name": "ipython",
    "version": 3
   },
   "file_extension": ".py",
   "mimetype": "text/x-python",
   "name": "python",
   "nbconvert_exporter": "python",
   "pygments_lexer": "ipython3",
   "version": "3.7.1"
  }
 },
 "nbformat": 4,
 "nbformat_minor": 2
}
