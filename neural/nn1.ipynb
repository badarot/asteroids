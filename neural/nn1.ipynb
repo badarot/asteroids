{
 "cells": [
  {
   "cell_type": "code",
   "execution_count": 3,
   "metadata": {},
   "outputs": [],
   "source": [
    "import numpy as np\n",
    "import matplotlib.pyplot as plt\n",
    "import random\n",
    "from string import ascii_lowercase\n"
   ]
  },
  {
   "cell_type": "code",
   "execution_count": 4,
   "metadata": {},
   "outputs": [
    {
     "data": {
      "text/plain": [
       "32"
      ]
     },
     "execution_count": 4,
     "metadata": {},
     "output_type": "execute_result"
    }
   ],
   "source": [
    "frase = 'babaca muleque minha primeira ai'\n",
    "pool = ascii_lowercase + ' '\n",
    "cel_size = len(frase)\n",
    "cel_size"
   ]
  },
  {
   "cell_type": "code",
   "execution_count": 1,
   "metadata": {},
   "outputs": [],
   "source": [
    "class Cell:\n",
    "    def __init__(self, dna):\n",
    "        self.dna = dna\n",
    "    \n",
    "    def __str__(self):\n",
    "        return self.dna\n",
    "    \n",
    "    def fitness(self, frase):\n",
    "        fitness = 1\n",
    "        for i in range(len(frase)):\n",
    "            if frase[i] == self.dna[i]:\n",
    "                fitness += 1\n",
    "        return fitness\n",
    "\n",
    "class Pop():\n",
    "    def __init__(self, size, frase, pool):\n",
    "        self.size = size\n",
    "        self.frase = frase\n",
    "        self.cell_size = len(frase)\n",
    "        self.pool = pool\n",
    "        self.pop = [self.gen_cell() for _ in range(size)]\n",
    "        self.fitness = []\n",
    "        self.gen = 0\n",
    "    \n",
    "    def __str__(self):\n",
    "        return '\\n'.join([c.dna for c in self.pop])\n",
    "        \n",
    "    def gen_cell(self):\n",
    "        return Cell(''.join(random.choices(self.pool, k=len(self.frase))))\n",
    "        \n",
    "    def calc_fitness(self):\n",
    "        self.fitness = [c.fitness(self.frase) for c in self.pop]\n",
    "        \n",
    "    def sex(self, weights):\n",
    "        parents = random.choices(pop.pop, weights=weights, k=2)\n",
    "        select = np.random.randint(0,2, self.cell_size)\n",
    "        child = ''.join([parents[select[i]].dna[i] for i in range(self.cell_size)])\n",
    "        # mutacao\n",
    "        if random.random() < 0.02:\n",
    "            i = random.randint(0,self.cell_size-1)\n",
    "            child = child[:i] + random.choice(self.pool) + child[i+1:]\n",
    "        return child\n",
    "    \n",
    "    def sex2(self, weights):\n",
    "        parents = random.choices(pop.pop, weights=weights, k=2)\n",
    "        cut = random.randint(0, self.size-1)\n",
    "        child = parents[0].dna[:cut] + parents[1].dna[cut:]\n",
    "        # mutacao\n",
    "        if random.random() < 0.01:\n",
    "            i = random.randint(0,self.cell_size-1)\n",
    "            child = child[:i] + random.choice(self.pool) + child[i+1:]\n",
    "        return child\n",
    "            \n",
    "    def next_gen(self):\n",
    "        self.gen += 1\n",
    "        total_fit = sum(self.fitness)\n",
    "        prob = [fit/total_fit for fit in self.fitness]\n",
    "        \n",
    "        self.pop = [Cell(self.sex(prob)) for _ in range(self.size)]\n",
    "            "
   ]
  },
  {
   "cell_type": "code",
   "execution_count": 270,
   "metadata": {},
   "outputs": [
    {
     "data": {
      "text/plain": [
       "'unopcorn'"
      ]
     },
     "execution_count": 270,
     "metadata": {},
     "output_type": "execute_result"
    }
   ],
   "source": [
    "a = 'uniporn'\n",
    "b = 'popcorn'\n",
    "a[:2] + b[2:]\n",
    "\n",
    "a[:2] + 'o' + b[2:]"
   ]
  },
  {
   "cell_type": "code",
   "execution_count": 5,
   "metadata": {},
   "outputs": [
    {
     "name": "stdout",
     "output_type": "stream",
     "text": [
      "[1, 3, 3, 1, 3]\n",
      "zrdxvwtnlxhseybsranfnvwtcsxmecrm\n",
      "pyoqn odocdbztjxqhqu ljwmmzmkdzf\n",
      "zbhaoikykupcxikkqemtrautshmis co\n",
      "nqcftxpkimuuxndpgyxrkucknyts vck\n",
      "nkbtmvbhjneunyxxymgjocwel cdlhtd\n"
     ]
    }
   ],
   "source": [
    "pop = Pop(5, frase, pool)\n",
    "pop.calc_fitness()\n",
    "print(pop.fitness)\n",
    "print(pop)"
   ]
  },
  {
   "cell_type": "code",
   "execution_count": 7,
   "metadata": {},
   "outputs": [
    {
     "name": "stdout",
     "output_type": "stream",
     "text": [
      "10 13\n",
      "20 19\n",
      "30 25\n",
      "40 25\n",
      "50 28\n",
      "60 29\n",
      "70 30\n",
      "80 30\n",
      "90 31\n",
      "100 31\n",
      "110 31\n",
      "120 31\n",
      "130 31\n",
      "140 31\n",
      "150 31\n",
      "160 31\n",
      "170 31\n",
      "32\n",
      "babaca muleque minha primeira ai\n",
      "babaca muleque minha primeirs ai\n"
     ]
    }
   ],
   "source": [
    "pop = Pop(200, frase, pool)\n",
    "pop.calc_fitness()\n",
    "fitness = max(pop.fitness)\n",
    "while fitness < cel_size and pop.gen < 10000:\n",
    "    pop.next_gen()\n",
    "    pop.calc_fitness()\n",
    "    fitness = max(pop.fitness)\n",
    "    if pop.gen % 10 == 0:\n",
    "        print(pop.gen, fitness)\n",
    "  \n",
    "# print(pop.fitness)\n",
    "pop.calc_fitness()\n",
    "x = np.argmax(pop.fitness)\n",
    "\n",
    "print(pop.fitness[x])\n",
    "print(frase)\n",
    "print(pop.pop[x].dna)"
   ]
  },
  {
   "cell_type": "code",
   "execution_count": 8,
   "metadata": {},
   "outputs": [
    {
     "name": "stdout",
     "output_type": "stream",
     "text": [
      "30.565 0.6370047095587285\n"
     ]
    },
    {
     "data": {
      "image/png": "[encoded data removed]",
      "text/plain": [
       "<Figure size 432x288 with 1 Axes>"
      ]
     },
     "metadata": {
      "needs_background": "light"
     },
     "output_type": "display_data"
    }
   ],
   "source": [
    "pop.next_gen()\n",
    "pop.calc_fitness()\n",
    "print(np.mean(pop.fitness), np.std(pop.fitness))\n",
    "plt.hist(pop.fitness)\n",
    "plt.show()"
   ]
  }
 ],
 "metadata": {
  "kernelspec": {
   "display_name": "Python 3",
   "language": "python",
   "name": "python3"
  },
  "language_info": {
   "codemirror_mode": {
    "name": "ipython",
    "version": 3
   },
   "file_extension": ".py",
   "mimetype": "text/x-python",
   "name": "python",
   "nbconvert_exporter": "python",
   "pygments_lexer": "ipython3",
   "version": "3.7.1"
  }
 },
 "nbformat": 4,
 "nbformat_minor": 2
}
